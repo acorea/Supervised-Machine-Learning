{
 "cells": [
  {
   "cell_type": "code",
   "execution_count": 17,
   "source": [
    "import numpy as np\r\n",
    "import pandas as pd\r\n",
    "from sklearn.preprocessing import StandardScaler, MinMaxScaler, LabelEncoder\r\n",
    "from pathlib import Path\r\n",
    "from sklearn.metrics import confusion_matrix, classification_report"
   ],
   "outputs": [],
   "metadata": {}
  },
  {
   "cell_type": "code",
   "execution_count": 18,
   "source": [
    "train_df = pd.read_csv(Path('Resources/2019loans.csv'))\r\n",
    "test_df = pd.read_csv(Path('Resources/2020Q1loans.csv'))\r\n",
    "train_df.head\r\n",
    "test_df.head"
   ],
   "outputs": [
    {
     "output_type": "execute_result",
     "data": {
      "text/plain": [
       "<bound method NDFrame.head of       Unnamed: 0  index  loan_amnt  int_rate  installment home_ownership  \\\n",
       "0          67991  67991    40000.0    0.0819       814.70       MORTGAGE   \n",
       "1          25429  25429     6000.0    0.1524       208.70           RENT   \n",
       "2          38496  38496     3600.0    0.1695       128.27           RENT   \n",
       "3          19667  19667    20000.0    0.1524       478.33           RENT   \n",
       "4          37505  37505     3600.0    0.1240       120.27           RENT   \n",
       "...          ...    ...        ...       ...          ...            ...   \n",
       "4697       77282  77282    30000.0    0.1240       673.42           RENT   \n",
       "4698       77291  77291    24000.0    0.0756       747.22           RENT   \n",
       "4699       77292  77292    10000.0    0.2305       387.36           RENT   \n",
       "4700       77297  77297     8000.0    0.1862       205.86           RENT   \n",
       "4701       77304  77304    30000.0    0.2055      1123.34           RENT   \n",
       "\n",
       "      annual_inc verification_status loan_status pymnt_plan  ...  \\\n",
       "0       140000.0        Not Verified    low_risk          n  ...   \n",
       "1        55000.0        Not Verified    low_risk          n  ...   \n",
       "2        42000.0        Not Verified    low_risk          n  ...   \n",
       "3       100000.0        Not Verified    low_risk          n  ...   \n",
       "4        50000.0        Not Verified    low_risk          n  ...   \n",
       "...          ...                 ...         ...        ...  ...   \n",
       "4697    140480.0     Source Verified   high_risk          n  ...   \n",
       "4698     50000.0        Not Verified   high_risk          n  ...   \n",
       "4699     33000.0            Verified   high_risk          n  ...   \n",
       "4700     38000.0     Source Verified   high_risk          n  ...   \n",
       "4701    180000.0     Source Verified   high_risk          n  ...   \n",
       "\n",
       "      pct_tl_nvr_dlq  percent_bc_gt_75  pub_rec_bankruptcies  tax_liens  \\\n",
       "0               97.7               0.0                   0.0        0.0   \n",
       "1               66.7               0.0                   0.0        0.0   \n",
       "2              100.0               0.0                   0.0        0.0   \n",
       "3              100.0              50.0                   0.0        0.0   \n",
       "4              100.0              25.0                   0.0        0.0   \n",
       "...              ...               ...                   ...        ...   \n",
       "4697           100.0              28.6                   0.0        0.0   \n",
       "4698           100.0               0.0                   0.0        0.0   \n",
       "4699           100.0               0.0                   0.0        0.0   \n",
       "4700            95.0               0.0                   1.0        0.0   \n",
       "4701           100.0              33.3                   0.0        0.0   \n",
       "\n",
       "      tot_hi_cred_lim  total_bal_ex_mort  total_bc_limit  \\\n",
       "0            527975.0            70914.0         74600.0   \n",
       "1             34628.0            23460.0          5900.0   \n",
       "2             23100.0            19183.0          7300.0   \n",
       "3             56481.0            43817.0         13800.0   \n",
       "4             45977.0            32448.0         21000.0   \n",
       "...               ...                ...             ...   \n",
       "4697         159688.0           110873.0         48400.0   \n",
       "4698          62375.0            18928.0         13300.0   \n",
       "4699          43250.0            33022.0          8500.0   \n",
       "4700          31357.0            19595.0          1500.0   \n",
       "4701         218686.0           209389.0          5600.0   \n",
       "\n",
       "     total_il_high_credit_limit  hardship_flag  debt_settlement_flag  \n",
       "0                       99475.0              N                     N  \n",
       "1                       23628.0              N                     N  \n",
       "2                       15000.0              N                     N  \n",
       "3                       35981.0              N                     N  \n",
       "4                       24977.0              N                     N  \n",
       "...                         ...            ...                   ...  \n",
       "4697                   107388.0              N                     N  \n",
       "4698                    30775.0              N                     N  \n",
       "4699                    29550.0              N                     N  \n",
       "4700                     9657.0              N                     N  \n",
       "4701                   209986.0              N                     N  \n",
       "\n",
       "[4702 rows x 86 columns]>"
      ]
     },
     "metadata": {},
     "execution_count": 18
    }
   ],
   "metadata": {}
  },
  {
   "cell_type": "code",
   "execution_count": 22,
   "source": [
    "# Convert categorical data to numeric and separate target feature for training data\r\n",
    "y_train = train_df.pop('loan_status')\r\n",
    "X_train = pd.get_dummies(train_df)\r\n",
    "\r\n",
    "print(\"X_train: {}, y_train: {}\".format(X_train.shape, y_train.shape))"
   ],
   "outputs": [
    {
     "output_type": "stream",
     "name": "stdout",
     "text": [
      "X_train: (12180, 94), y_train: (12180,)\n"
     ]
    }
   ],
   "metadata": {}
  },
  {
   "cell_type": "code",
   "execution_count": 21,
   "source": [
    "# Convert categorical data to numeric and separate target feature for testing data\r\n",
    "y_test = test_df.pop('loan_status')\r\n",
    "X_test = pd.get_dummies(test_df)\r\n",
    "\r\n",
    "print(\"X_test: {}, y_test: {}\".format(X_test.shape, y_test.shape))"
   ],
   "outputs": [
    {
     "output_type": "stream",
     "name": "stdout",
     "text": [
      "X_test: (4702, 93), y_test: (4702,)\n"
     ]
    }
   ],
   "metadata": {}
  },
  {
   "cell_type": "code",
   "execution_count": 23,
   "source": [
    "# add missing dummy variables to testing set\r\n",
    "missing_columns = set(X_train.columns).difference(X_test.columns)\r\n",
    "print(missing_columns)\r\n",
    "\r\n",
    "X_test[\"debt_settlement_flag_Y\"] = 0"
   ],
   "outputs": [
    {
     "output_type": "stream",
     "name": "stdout",
     "text": [
      "{'debt_settlement_flag_Y'}\n"
     ]
    }
   ],
   "metadata": {}
  },
  {
   "cell_type": "code",
   "execution_count": 25,
   "source": [
    "# Train the Logistic Regression model on the unscaled data and print the model score\r\n",
    "from sklearn.linear_model import LogisticRegression\r\n",
    "from sklearn.metrics import balanced_accuracy_score\r\n",
    "\r\n",
    "logistic_regression_model = LogisticRegression(solver='lbfgs', random_state=1)\r\n",
    "logistic_regression_model.fit(X_train, y_train)\r\n",
    "y_pred = logistic_regression_model.predict(X_test)\r\n",
    "balanced_accuracy_score(y_test, y_pred)"
   ],
   "outputs": [
    {
     "output_type": "stream",
     "name": "stderr",
     "text": [
      "C:\\Users\\apett\\anaconda3\\envs\\PythonData\\lib\\site-packages\\sklearn\\linear_model\\_logistic.py:764: ConvergenceWarning: lbfgs failed to converge (status=1):\n",
      "STOP: TOTAL NO. of ITERATIONS REACHED LIMIT.\n",
      "\n",
      "Increase the number of iterations (max_iter) or scale the data as shown in:\n",
      "    https://scikit-learn.org/stable/modules/preprocessing.html\n",
      "Please also refer to the documentation for alternative solver options:\n",
      "    https://scikit-learn.org/stable/modules/linear_model.html#logistic-regression\n",
      "  extra_warning_msg=_LOGISTIC_SOLVER_CONVERGENCE_MSG)\n"
     ]
    },
    {
     "output_type": "execute_result",
     "data": {
      "text/plain": [
       "0.5253083794130158"
      ]
     },
     "metadata": {},
     "execution_count": 25
    }
   ],
   "metadata": {}
  },
  {
   "cell_type": "code",
   "execution_count": 26,
   "source": [
    "# Train a Random Forest Classifier model and print the model score\r\n",
    "from imblearn.ensemble import BalancedRandomForestClassifier\r\n",
    "from sklearn.metrics import balanced_accuracy_score\r\n",
    "\r\n",
    "random_forest_model = BalancedRandomForestClassifier(n_estimators=100, random_state=1)\r\n",
    "random_forest_model.fit(X_train, y_train)\r\n",
    "y_pred = random_forest_model.predict(X_test)\r\n",
    "balanced_accuracy_score(y_test, y_pred)"
   ],
   "outputs": [
    {
     "output_type": "error",
     "ename": "ModuleNotFoundError",
     "evalue": "No module named 'imblearn'",
     "traceback": [
      "\u001b[1;31m---------------------------------------------------------------------------\u001b[0m",
      "\u001b[1;31mModuleNotFoundError\u001b[0m                       Traceback (most recent call last)",
      "\u001b[1;32m<ipython-input-26-74c14a7be20d>\u001b[0m in \u001b[0;36m<module>\u001b[1;34m\u001b[0m\n\u001b[0;32m      1\u001b[0m \u001b[1;31m# Train a Random Forest Classifier model and print the model score\u001b[0m\u001b[1;33m\u001b[0m\u001b[1;33m\u001b[0m\u001b[1;33m\u001b[0m\u001b[0m\n\u001b[1;32m----> 2\u001b[1;33m \u001b[1;32mfrom\u001b[0m \u001b[0mimblearn\u001b[0m\u001b[1;33m.\u001b[0m\u001b[0mensemble\u001b[0m \u001b[1;32mimport\u001b[0m \u001b[0mBalancedRandomForestClassifier\u001b[0m\u001b[1;33m\u001b[0m\u001b[1;33m\u001b[0m\u001b[0m\n\u001b[0m\u001b[0;32m      3\u001b[0m \u001b[1;32mfrom\u001b[0m \u001b[0msklearn\u001b[0m\u001b[1;33m.\u001b[0m\u001b[0mmetrics\u001b[0m \u001b[1;32mimport\u001b[0m \u001b[0mbalanced_accuracy_score\u001b[0m\u001b[1;33m\u001b[0m\u001b[1;33m\u001b[0m\u001b[0m\n\u001b[0;32m      4\u001b[0m \u001b[1;33m\u001b[0m\u001b[0m\n\u001b[0;32m      5\u001b[0m \u001b[0mrandom_forest_model\u001b[0m \u001b[1;33m=\u001b[0m \u001b[0mBalancedRandomForestClassifier\u001b[0m\u001b[1;33m(\u001b[0m\u001b[0mn_estimators\u001b[0m\u001b[1;33m=\u001b[0m\u001b[1;36m100\u001b[0m\u001b[1;33m,\u001b[0m \u001b[0mrandom_state\u001b[0m\u001b[1;33m=\u001b[0m\u001b[1;36m1\u001b[0m\u001b[1;33m)\u001b[0m\u001b[1;33m\u001b[0m\u001b[1;33m\u001b[0m\u001b[0m\n",
      "\u001b[1;31mModuleNotFoundError\u001b[0m: No module named 'imblearn'"
     ]
    }
   ],
   "metadata": {}
  },
  {
   "cell_type": "code",
   "execution_count": null,
   "source": [
    "# Scale the data"
   ],
   "outputs": [],
   "metadata": {}
  },
  {
   "cell_type": "code",
   "execution_count": null,
   "source": [
    "# Train the Logistic Regression model on the scaled data and print the model score"
   ],
   "outputs": [],
   "metadata": {}
  },
  {
   "cell_type": "code",
   "execution_count": null,
   "source": [
    "# Train a Random Forest Classifier model on the scaled data and print the model score"
   ],
   "outputs": [],
   "metadata": {}
  }
 ],
 "metadata": {
  "kernelspec": {
   "name": "python3",
   "display_name": "Python 3.6.10 64-bit ('PythonData': conda)"
  },
  "language_info": {
   "codemirror_mode": {
    "name": "ipython",
    "version": 3
   },
   "file_extension": ".py",
   "mimetype": "text/x-python",
   "name": "python",
   "nbconvert_exporter": "python",
   "pygments_lexer": "ipython3",
   "version": "3.6.10"
  },
  "interpreter": {
   "hash": "b1b7b1aafd712f0c3c9d5ed14206ddd16150250cb00da6bfa1c7df749c3f57eb"
  }
 },
 "nbformat": 4,
 "nbformat_minor": 4
}